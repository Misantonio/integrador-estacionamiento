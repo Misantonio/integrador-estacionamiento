{
 "cells": [
  {
   "cell_type": "code",
   "execution_count": 28,
   "metadata": {},
   "outputs": [],
   "source": [
    "import cv2\n",
    "import numpy as np\n",
    "import time\n",
    "import base64\n",
    "import requests\n",
    "import json\n",
    "import numpy as np"
   ]
  },
  {
   "cell_type": "code",
   "execution_count": 68,
   "metadata": {},
   "outputs": [
    {
     "name": "stderr",
     "output_type": "stream",
     "text": [
      "/home/pabmacias28/Documents/tec/integrador/integrador-estacionamiento/yolo-parking/venv/lib/python3.6/site-packages/ipykernel_launcher.py:18: DeprecationWarning: encodestring() is a deprecated alias since 3.1, use encodebytes()\n"
     ]
    }
   ],
   "source": [
    "cap = cv2.VideoCapture('videos/parking.mp4')\n",
    "url = \"http://0.0.0.0:5000/api/v1/places/get_places\"\n",
    " \n",
    "if (cap.isOpened()== False): \n",
    "  print(\"Error opening video stream or file\")\n",
    " \n",
    "start = time.time()\n",
    "i = 0\n",
    "while(cap.isOpened()):\n",
    "    ret, frame = cap.read()\n",
    "    if ret == True: \n",
    "        if time.time() - start >= 0.4:\n",
    "            start = time.time()\n",
    "\n",
    "            retval, buffer = cv2.imencode('.jpg', frame)\n",
    "            jpg_as_text = base64.b64encode(buffer)\n",
    "#             jpg_as_text = np.array(buffer).tostring()\n",
    "            encoded = base64.encodestring(jpg_as_text)\n",
    "            payload = {\n",
    "                \"image\": encoded.decode('ascii'),\n",
    "                \"confidence\": 0.5,\n",
    "                \"treshold\": 0.3\n",
    "            }\n",
    "            headers = {\n",
    "                'Content-Type': \"application/json\",\n",
    "                'cache-control': \"no-cache\",\n",
    "                'Postman-Token': \"c5921aef-3b70-4b42-a9a1-ae8fe0894594\"\n",
    "            }\n",
    "\n",
    "            response = requests.request(\"POST\", url, data=json.dumps(payload), headers=headers)\n",
    "\n",
    "            cv2.imwrite(\"output/frame\" + str(i) + \".jpg\", frame)\n",
    "            i += 1\n",
    "\n",
    "    else: \n",
    "        break\n",
    "\n",
    "cap.release()"
   ]
  },
  {
   "cell_type": "code",
   "execution_count": null,
   "metadata": {},
   "outputs": [],
   "source": []
  },
  {
   "cell_type": "code",
   "execution_count": null,
   "metadata": {},
   "outputs": [],
   "source": []
  }
 ],
 "metadata": {
  "kernelspec": {
   "display_name": "yolo-parking",
   "language": "python",
   "name": "yolo-parking"
  },
  "language_info": {
   "codemirror_mode": {
    "name": "ipython",
    "version": 3
   },
   "file_extension": ".py",
   "mimetype": "text/x-python",
   "name": "python",
   "nbconvert_exporter": "python",
   "pygments_lexer": "ipython3",
   "version": "3.6.7"
  }
 },
 "nbformat": 4,
 "nbformat_minor": 2
}
